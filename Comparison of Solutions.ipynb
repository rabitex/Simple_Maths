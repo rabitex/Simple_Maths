{
 "cells": [
  {
   "cell_type": "code",
   "execution_count": 41,
   "metadata": {},
   "outputs": [
    {
     "data": {
      "text/plain": [
       "Plots.GRBackend()"
      ]
     },
     "execution_count": 41,
     "metadata": {},
     "output_type": "execute_result"
    }
   ],
   "source": [
    "using Plots;gr()"
   ]
  },
  {
   "cell_type": "code",
   "execution_count": 64,
   "metadata": {},
   "outputs": [
    {
     "data": {
      "text/plain": [
       "0-element Array{Any,1}"
      ]
     },
     "execution_count": 64,
     "metadata": {},
     "output_type": "execute_result"
    }
   ],
   "source": [
    "f_array_1 = []\n",
    "real_array_1 = []\n",
    "f_array_2 = []\n",
    "real_array_2 = []\n",
    "f_array_3 = []\n",
    "real_array_3 = []\n",
    "f_array_4 = []\n",
    "real_array_4 = []"
   ]
  },
  {
   "cell_type": "code",
   "execution_count": 43,
   "metadata": {},
   "outputs": [
    {
     "data": {
      "text/plain": [
       "f_orig (generic function with 1 method)"
      ]
     },
     "execution_count": 43,
     "metadata": {},
     "output_type": "execute_result"
    }
   ],
   "source": [
    "function f(x::Float64,y::Float64) ::Float64\n",
    "\treturn (x^2+y)    \n",
    "end\n",
    "\n",
    "function f_orig(x::Float64) ::Float64\n",
    "    return (3*e^x-x^2-2*x-2)\n",
    "end"
   ]
  },
  {
   "cell_type": "code",
   "execution_count": 44,
   "metadata": {},
   "outputs": [
    {
     "data": {
      "text/plain": [
       "forward_delta (generic function with 1 method)"
      ]
     },
     "execution_count": 44,
     "metadata": {},
     "output_type": "execute_result"
    }
   ],
   "source": [
    "function forward_delta(a::Float64,b::Float64,η::Float64,a0::Float64)\n",
    "\tT = collect(a:η:b)\n",
    "\ty1 = 0.0\n",
    "\ty0 = a0\n",
    "\tfor i = T\n",
    "\t    y1 = y0 + η*f(i,y0)\n",
    "\t    push!(f_array_1,y1)\n",
    "\t    push!(real_array_1,f_orig(i))\n",
    "\t    y0 = y1\n",
    "\tend \n",
    "\tprintln(\"Approximate value of y($b) is $y1\")\n",
    "end"
   ]
  },
  {
   "cell_type": "code",
   "execution_count": 45,
   "metadata": {},
   "outputs": [
    {
     "data": {
      "text/plain": [
       "backward_delta (generic function with 1 method)"
      ]
     },
     "execution_count": 45,
     "metadata": {},
     "output_type": "execute_result"
    }
   ],
   "source": [
    "function backward_delta(a::Float64,b::Float64,η::Float64,a0::Float64)\n",
    "\tb = b - η\n",
    "\tT = collect(a:η:b)\n",
    "\ty1 = 0.0\n",
    "\ty0 = a0\n",
    "    push!(f_array_2,a)\n",
    "    push!(real_array_2,a0)\n",
    "\tfor i = T\n",
    "\t    #println(\"HELLO  $i\")\n",
    "\t    y1 = y0 + η*f(i,y1) \n",
    "\t    y1 = y0 + η*f(i+η,y1)\n",
    "        push!(f_array_2,y1)\n",
    "\t    push!(real_array_2,f_orig(i))\n",
    "\t    y0 = y1\n",
    "\tend \n",
    "\tb = b + η\n",
    "\tprintln(\"Approximate value of y($b) is $y1\")\n",
    "end"
   ]
  },
  {
   "cell_type": "code",
   "execution_count": 46,
   "metadata": {},
   "outputs": [
    {
     "data": {
      "text/plain": [
       "modified_delta (generic function with 1 method)"
      ]
     },
     "execution_count": 46,
     "metadata": {},
     "output_type": "execute_result"
    }
   ],
   "source": [
    "function modified_delta(a::Float64,b::Float64,η::Float64,a0::Float64)\n",
    "\tb = b - η\n",
    "\tT = collect(a:η:b)\n",
    "\ty1 = 0.0\n",
    "\ty0 = a0\n",
    "    push!(f_array_3,a)\n",
    "    push!(real_array_3,a0)\n",
    "\tfor i = T\n",
    "\t    #println(\"HELLO  $i\")\n",
    "\t    k1 = η*f(i,y0)\n",
    "\t    k2 = η*f((i+η),(y0+k1))\n",
    "\t    y1 = y0 + 0.5*(k1+k2)\n",
    "        push!(f_array_3,y1)\n",
    "\t    push!(real_array_3,f_orig(i))\n",
    "\t    y0 = y1\n",
    "\tend \n",
    "\tb = b + η\n",
    "\tprintln(\"Approximate value of y($b) is $y1\")\n",
    "end"
   ]
  },
  {
   "cell_type": "code",
   "execution_count": 47,
   "metadata": {},
   "outputs": [
    {
     "data": {
      "text/plain": [
       "solver_delta (generic function with 1 method)"
      ]
     },
     "execution_count": 47,
     "metadata": {},
     "output_type": "execute_result"
    }
   ],
   "source": [
    "function solver_delta(a::Float64,b::Float64,η::Float64,a0::Float64)\n",
    "\tb = b - η\n",
    "\tT = collect(a:η:b)\n",
    "\ty1 = 0.0\n",
    "\ty0 = a0\n",
    "    push!(f_array_4,a)\n",
    "    push!(real_array_4,a0)\n",
    "\tfor i = T\n",
    "\t    #println(\"HELLO  $i\")\n",
    "\t    k1 = η*f(i,y0)\n",
    "\t    k2 = η*f((i+η/2),(y0+k1/2))\n",
    "\t    k3 = η*f((i+η/2),(y0+k2/2))\n",
    "\t    k4 = η*f((i+η),(y0+k3))\n",
    "\t    y1 = y0 + 1/6.0*(k1+2*k2+2*k3+k4)\n",
    "        push!(f_array_4,y1)\n",
    "\t    push!(real_array_4,f_orig(i))\n",
    "\t    y0 = y1\n",
    "\tend \n",
    "\tb = b + η\n",
    "\tprintln(\"Approximate value of y($b) is $y1\")\n",
    "end"
   ]
  },
  {
   "cell_type": "code",
   "execution_count": 65,
   "metadata": {},
   "outputs": [
    {
     "data": {
      "text/plain": [
       "0.0:0.1:4.0"
      ]
     },
     "execution_count": 65,
     "metadata": {},
     "output_type": "execute_result"
    }
   ],
   "source": [
    "a = 0.0\n",
    "y_a = 1.0\n",
    "ℏ = 0.1\n",
    "x = 4.0\n",
    "time_array = a:ℏ:x"
   ]
  },
  {
   "cell_type": "code",
   "execution_count": 66,
   "metadata": {
    "scrolled": true
   },
   "outputs": [
    {
     "name": "stdout",
     "output_type": "stream",
     "text": [
      "Approximate value of y(4.0) is 127.22406148748001\n",
      "Approximate value of y(4.0) is 163.18057391992258\n",
      "Approximate value of y(4.0) is 137.03787302846533\n",
      "Approximate value of y(4.0) is 137.79405389530228\n"
     ]
    }
   ],
   "source": [
    "forward_delta(a,x,ℏ,y_a)\n",
    "backward_delta(a,x,ℏ,y_a)\n",
    "modified_delta(a,x,ℏ,y_a)\n",
    "solver_delta(a,x,ℏ,y_a)"
   ]
  },
  {
   "cell_type": "code",
   "execution_count": 68,
   "metadata": {},
   "outputs": [
    {
     "data": {
      "text/html": [
       "<?xml version=\"1.0\" encoding=\"utf-8\"?>\n",
       "<svg xmlns=\"http://www.w3.org/2000/svg\" xmlns:xlink=\"http://www.w3.org/1999/xlink\" width=\"600\" height=\"400\" viewBox=\"0 0 600 400\">\n",
       "<defs>\n",
       "  <clipPath id=\"clip8200\">\n",
       "    <rect x=\"0\" y=\"0\" width=\"600\" height=\"400\"/>\n",
       "  </clipPath>\n",
       "</defs>\n",
       "<polygon clip-path=\"url(#clip8200)\" points=\"\n",
       "0,400 600,400 600,0 0,0 \n",
       "  \" fill=\"#ffffff\" fill-opacity=\"1\"/>\n",
       "<defs>\n",
       "  <clipPath id=\"clip8201\">\n",
       "    <rect x=\"120\" y=\"0\" width=\"421\" height=\"400\"/>\n",
       "  </clipPath>\n",
       "</defs>\n",
       "<polygon clip-path=\"url(#clip8200)\" points=\"\n",
       "51.265,360.065 580.315,360.065 580.315,31.4961 51.265,31.4961 \n",
       "  \" fill=\"#ffffff\" fill-opacity=\"1\"/>\n",
       "<defs>\n",
       "  <clipPath id=\"clip8202\">\n",
       "    <rect x=\"51\" y=\"31\" width=\"530\" height=\"330\"/>\n",
       "  </clipPath>\n",
       "</defs>\n",
       "<polyline clip-path=\"url(#clip8202)\" style=\"stroke:#000000; stroke-width:0.5; stroke-opacity:0.1; fill:none\" points=\"\n",
       "  51.265,360.065 51.265,31.4961 \n",
       "  \"/>\n",
       "<polyline clip-path=\"url(#clip8202)\" style=\"stroke:#000000; stroke-width:0.5; stroke-opacity:0.1; fill:none\" points=\"\n",
       "  183.527,360.065 183.527,31.4961 \n",
       "  \"/>\n",
       "<polyline clip-path=\"url(#clip8202)\" style=\"stroke:#000000; stroke-width:0.5; stroke-opacity:0.1; fill:none\" points=\"\n",
       "  315.79,360.065 315.79,31.4961 \n",
       "  \"/>\n",
       "<polyline clip-path=\"url(#clip8202)\" style=\"stroke:#000000; stroke-width:0.5; stroke-opacity:0.1; fill:none\" points=\"\n",
       "  448.052,360.065 448.052,31.4961 \n",
       "  \"/>\n",
       "<polyline clip-path=\"url(#clip8202)\" style=\"stroke:#000000; stroke-width:0.5; stroke-opacity:0.1; fill:none\" points=\"\n",
       "  580.315,360.065 580.315,31.4961 \n",
       "  \"/>\n",
       "<polyline clip-path=\"url(#clip8202)\" style=\"stroke:#000000; stroke-width:0.5; stroke-opacity:0.1; fill:none\" points=\"\n",
       "  51.265,360.065 580.315,360.065 \n",
       "  \"/>\n",
       "<polyline clip-path=\"url(#clip8202)\" style=\"stroke:#000000; stroke-width:0.5; stroke-opacity:0.1; fill:none\" points=\"\n",
       "  51.265,259.389 580.315,259.389 \n",
       "  \"/>\n",
       "<polyline clip-path=\"url(#clip8202)\" style=\"stroke:#000000; stroke-width:0.5; stroke-opacity:0.1; fill:none\" points=\"\n",
       "  51.265,158.712 580.315,158.712 \n",
       "  \"/>\n",
       "<polyline clip-path=\"url(#clip8202)\" style=\"stroke:#000000; stroke-width:0.5; stroke-opacity:0.1; fill:none\" points=\"\n",
       "  51.265,58.0356 580.315,58.0356 \n",
       "  \"/>\n",
       "<polyline clip-path=\"url(#clip8200)\" style=\"stroke:#000000; stroke-width:1; stroke-opacity:1; fill:none\" points=\"\n",
       "  51.265,360.065 580.315,360.065 \n",
       "  \"/>\n",
       "<polyline clip-path=\"url(#clip8200)\" style=\"stroke:#000000; stroke-width:1; stroke-opacity:1; fill:none\" points=\"\n",
       "  51.265,360.065 51.265,31.4961 \n",
       "  \"/>\n",
       "<polyline clip-path=\"url(#clip8200)\" style=\"stroke:#000000; stroke-width:1; stroke-opacity:1; fill:none\" points=\"\n",
       "  51.265,360.065 51.265,355.137 \n",
       "  \"/>\n",
       "<polyline clip-path=\"url(#clip8200)\" style=\"stroke:#000000; stroke-width:1; stroke-opacity:1; fill:none\" points=\"\n",
       "  183.527,360.065 183.527,355.137 \n",
       "  \"/>\n",
       "<polyline clip-path=\"url(#clip8200)\" style=\"stroke:#000000; stroke-width:1; stroke-opacity:1; fill:none\" points=\"\n",
       "  315.79,360.065 315.79,355.137 \n",
       "  \"/>\n",
       "<polyline clip-path=\"url(#clip8200)\" style=\"stroke:#000000; stroke-width:1; stroke-opacity:1; fill:none\" points=\"\n",
       "  448.052,360.065 448.052,355.137 \n",
       "  \"/>\n",
       "<polyline clip-path=\"url(#clip8200)\" style=\"stroke:#000000; stroke-width:1; stroke-opacity:1; fill:none\" points=\"\n",
       "  580.315,360.065 580.315,355.137 \n",
       "  \"/>\n",
       "<polyline clip-path=\"url(#clip8200)\" style=\"stroke:#000000; stroke-width:1; stroke-opacity:1; fill:none\" points=\"\n",
       "  51.265,360.065 59.2007,360.065 \n",
       "  \"/>\n",
       "<polyline clip-path=\"url(#clip8200)\" style=\"stroke:#000000; stroke-width:1; stroke-opacity:1; fill:none\" points=\"\n",
       "  51.265,259.389 59.2007,259.389 \n",
       "  \"/>\n",
       "<polyline clip-path=\"url(#clip8200)\" style=\"stroke:#000000; stroke-width:1; stroke-opacity:1; fill:none\" points=\"\n",
       "  51.265,158.712 59.2007,158.712 \n",
       "  \"/>\n",
       "<polyline clip-path=\"url(#clip8200)\" style=\"stroke:#000000; stroke-width:1; stroke-opacity:1; fill:none\" points=\"\n",
       "  51.265,58.0356 59.2007,58.0356 \n",
       "  \"/>\n",
       "<g clip-path=\"url(#clip8200)\">\n",
       "<text style=\"fill:#000000; fill-opacity:1; font-family:Arial,Helvetica Neue,Helvetica,sans-serif; font-size:12; text-anchor:middle;\" transform=\"rotate(0, 51.265, 373.865)\" x=\"51.265\" y=\"373.865\">0</text>\n",
       "</g>\n",
       "<g clip-path=\"url(#clip8200)\">\n",
       "<text style=\"fill:#000000; fill-opacity:1; font-family:Arial,Helvetica Neue,Helvetica,sans-serif; font-size:12; text-anchor:middle;\" transform=\"rotate(0, 183.527, 373.865)\" x=\"183.527\" y=\"373.865\">1</text>\n",
       "</g>\n",
       "<g clip-path=\"url(#clip8200)\">\n",
       "<text style=\"fill:#000000; fill-opacity:1; font-family:Arial,Helvetica Neue,Helvetica,sans-serif; font-size:12; text-anchor:middle;\" transform=\"rotate(0, 315.79, 373.865)\" x=\"315.79\" y=\"373.865\">2</text>\n",
       "</g>\n",
       "<g clip-path=\"url(#clip8200)\">\n",
       "<text style=\"fill:#000000; fill-opacity:1; font-family:Arial,Helvetica Neue,Helvetica,sans-serif; font-size:12; text-anchor:middle;\" transform=\"rotate(0, 448.052, 373.865)\" x=\"448.052\" y=\"373.865\">3</text>\n",
       "</g>\n",
       "<g clip-path=\"url(#clip8200)\">\n",
       "<text style=\"fill:#000000; fill-opacity:1; font-family:Arial,Helvetica Neue,Helvetica,sans-serif; font-size:12; text-anchor:middle;\" transform=\"rotate(0, 580.315, 373.865)\" x=\"580.315\" y=\"373.865\">4</text>\n",
       "</g>\n",
       "<g clip-path=\"url(#clip8200)\">\n",
       "<text style=\"fill:#000000; fill-opacity:1; font-family:Arial,Helvetica Neue,Helvetica,sans-serif; font-size:12; text-anchor:end;\" transform=\"rotate(0, 45.265, 364.565)\" x=\"45.265\" y=\"364.565\">0</text>\n",
       "</g>\n",
       "<g clip-path=\"url(#clip8200)\">\n",
       "<text style=\"fill:#000000; fill-opacity:1; font-family:Arial,Helvetica Neue,Helvetica,sans-serif; font-size:12; text-anchor:end;\" transform=\"rotate(0, 45.265, 263.889)\" x=\"45.265\" y=\"263.889\">50</text>\n",
       "</g>\n",
       "<g clip-path=\"url(#clip8200)\">\n",
       "<text style=\"fill:#000000; fill-opacity:1; font-family:Arial,Helvetica Neue,Helvetica,sans-serif; font-size:12; text-anchor:end;\" transform=\"rotate(0, 45.265, 163.212)\" x=\"45.265\" y=\"163.212\">100</text>\n",
       "</g>\n",
       "<g clip-path=\"url(#clip8200)\">\n",
       "<text style=\"fill:#000000; fill-opacity:1; font-family:Arial,Helvetica Neue,Helvetica,sans-serif; font-size:12; text-anchor:end;\" transform=\"rotate(0, 45.265, 62.5356)\" x=\"45.265\" y=\"62.5356\">150</text>\n",
       "</g>\n",
       "<g clip-path=\"url(#clip8200)\">\n",
       "<text style=\"fill:#000000; fill-opacity:1; font-family:Arial,Helvetica Neue,Helvetica,sans-serif; font-size:21; text-anchor:middle;\" transform=\"rotate(0, 315.79, 18)\" x=\"315.79\" y=\"18\">Solution to the linear ODE</text>\n",
       "</g>\n",
       "<g clip-path=\"url(#clip8200)\">\n",
       "<text style=\"fill:#000000; fill-opacity:1; font-family:Arial,Helvetica Neue,Helvetica,sans-serif; font-size:16; text-anchor:middle;\" transform=\"rotate(0, 315.79, 397.6)\" x=\"315.79\" y=\"397.6\">Time (t)</text>\n",
       "</g>\n",
       "<g clip-path=\"url(#clip8200)\">\n",
       "<text style=\"fill:#000000; fill-opacity:1; font-family:Arial,Helvetica Neue,Helvetica,sans-serif; font-size:16; text-anchor:middle;\" transform=\"rotate(-90, 14.4, 195.781)\" x=\"14.4\" y=\"195.781\">u(t) (in ?m)</text>\n",
       "</g>\n",
       "<polyline clip-path=\"url(#clip8202)\" style=\"stroke:#009af9; stroke-width:5; stroke-opacity:1; fill:none\" points=\"\n",
       "  51.265,357.851 64.4912,357.627 77.7175,357.375 90.9437,357.088 104.17,356.758 117.396,356.377 130.622,355.936 143.849,355.424 157.075,354.831 170.301,354.144 \n",
       "  183.527,353.351 196.754,352.436 209.98,351.383 223.206,350.174 236.432,348.791 249.659,347.21 262.885,345.409 276.111,343.362 289.337,341.039 302.564,338.409 \n",
       "  315.79,335.438 329.016,332.088 342.242,328.315 355.469,324.075 368.695,319.316 381.921,313.983 395.147,308.014 408.374,301.341 421.6,293.889 434.826,285.579 \n",
       "  448.052,276.318 461.279,266.008 474.505,254.54 487.731,241.795 500.957,227.64 514.184,211.931 527.41,194.508 540.636,175.196 553.862,153.802 567.089,130.113 \n",
       "  580.315,103.896 \n",
       "  \"/>\n",
       "<polyline clip-path=\"url(#clip8202)\" style=\"stroke:#e26f46; stroke-width:5; stroke-opacity:1; fill:none\" points=\"\n",
       "  51.265,360.065 64.4912,357.849 77.7175,357.596 90.9437,357.306 104.17,356.968 117.396,356.574 130.622,356.112 143.849,355.572 157.075,354.939 170.301,354.199 \n",
       "  183.527,353.336 196.754,352.332 209.98,351.167 223.206,349.819 236.432,348.263 249.659,346.472 262.885,344.416 276.111,342.061 289.337,339.37 302.564,336.301 \n",
       "  315.79,332.809 329.016,328.843 342.242,324.345 355.469,319.253 368.695,313.497 381.921,307 395.147,299.676 408.374,291.429 421.6,282.154 434.826,271.732 \n",
       "  448.052,260.034 461.279,246.915 474.505,232.213 487.731,215.75 500.957,197.328 514.184,176.728 527.41,153.704 540.636,127.987 553.862,99.2755 567.089,67.2353 \n",
       "  580.315,31.4961 \n",
       "  \"/>\n",
       "<polyline clip-path=\"url(#clip8202)\" style=\"stroke:#3da44d; stroke-width:5; stroke-opacity:1; fill:none\" points=\"\n",
       "  51.265,360.065 64.4912,357.839 77.7175,357.601 90.9437,357.328 104.17,357.015 117.396,356.652 130.622,356.229 143.849,355.737 157.075,355.164 170.301,354.497 \n",
       "  183.527,353.722 196.754,352.823 209.98,351.784 223.206,350.585 236.432,349.205 249.659,347.621 262.885,345.807 276.111,343.736 289.337,341.375 302.564,338.69 \n",
       "  315.79,335.643 329.016,332.192 342.242,328.29 355.469,323.885 368.695,318.92 381.921,313.332 395.147,307.053 408.374,300.004 421.6,292.101 434.826,283.25 \n",
       "  448.052,273.346 461.279,262.277 474.505,249.914 487.731,236.117 500.957,220.733 514.184,203.59 527.41,184.498 540.636,163.25 553.862,139.615 567.089,113.337 \n",
       "  580.315,84.1352 \n",
       "  \"/>\n",
       "<polyline clip-path=\"url(#clip8202)\" style=\"stroke:#c271d2; stroke-width:5; stroke-opacity:1; fill:none\" points=\"\n",
       "  51.265,360.065 64.4912,357.839 77.7175,357.6 90.9437,357.328 104.17,357.014 117.396,356.65 130.622,356.227 143.849,355.734 157.075,355.159 170.301,354.49 \n",
       "  183.527,353.713 196.754,352.812 209.98,351.769 223.206,350.566 236.432,349.181 249.659,347.591 262.885,345.771 276.111,343.692 289.337,341.322 302.564,338.626 \n",
       "  315.79,335.566 329.016,332.101 342.242,328.181 355.469,323.756 368.695,318.769 381.921,313.155 395.147,306.845 408.374,299.762 421.6,291.819 434.826,282.922 \n",
       "  448.052,272.967 461.279,261.838 474.505,249.407 487.731,235.533 500.957,220.06 514.184,202.816 527.41,183.611 540.636,162.233 553.862,138.45 567.089,112.004 \n",
       "  580.315,82.6126 \n",
       "  \"/>\n",
       "<polyline clip-path=\"url(#clip8202)\" style=\"stroke:#000000; stroke-width:3; stroke-opacity:1; fill:none\" stroke-dasharray=\"12, 8\" points=\"\n",
       "  51.265,358.052 64.4912,357.839 77.7175,357.6 90.9437,357.328 104.17,357.014 117.396,356.65 130.622,356.227 143.849,355.734 157.075,355.159 170.301,354.49 \n",
       "  183.527,353.713 196.754,352.812 209.98,351.769 223.206,350.566 236.432,349.181 249.659,347.591 262.885,345.771 276.111,343.692 289.337,341.322 302.564,338.626 \n",
       "  315.79,335.566 329.016,332.1 342.242,328.181 355.469,323.756 368.695,318.769 381.921,313.155 395.147,306.845 408.374,299.762 421.6,291.819 434.826,282.922 \n",
       "  448.052,272.967 461.279,261.838 474.505,249.407 487.731,235.533 500.957,220.06 514.184,202.816 527.41,183.61 540.636,162.232 553.862,138.449 567.089,112.004 \n",
       "  580.315,82.6118 \n",
       "  \"/>\n",
       "<polygon clip-path=\"url(#clip8200)\" points=\"\n",
       "422.623,143.096 562.315,143.096 562.315,52.3761 422.623,52.3761 \n",
       "  \" fill=\"#ffffff\" fill-opacity=\"1\"/>\n",
       "<polyline clip-path=\"url(#clip8200)\" style=\"stroke:#000000; stroke-width:1; stroke-opacity:1; fill:none\" points=\"\n",
       "  422.623,143.096 562.315,143.096 562.315,52.3761 422.623,52.3761 422.623,143.096 \n",
       "  \"/>\n",
       "<polyline clip-path=\"url(#clip8200)\" style=\"stroke:#009af9; stroke-width:5; stroke-opacity:1; fill:none\" points=\"\n",
       "  428.623,67.4961 464.623,67.4961 \n",
       "  \"/>\n",
       "<g clip-path=\"url(#clip8200)\">\n",
       "<text style=\"fill:#000000; fill-opacity:1; font-family:Arial,Helvetica Neue,Helvetica,sans-serif; font-size:12; text-anchor:start;\" transform=\"rotate(0, 470.623, 71.9961)\" x=\"470.623\" y=\"71.9961\">EulerForward</text>\n",
       "</g>\n",
       "<polyline clip-path=\"url(#clip8200)\" style=\"stroke:#e26f46; stroke-width:5; stroke-opacity:1; fill:none\" points=\"\n",
       "  428.623,82.6161 464.623,82.6161 \n",
       "  \"/>\n",
       "<g clip-path=\"url(#clip8200)\">\n",
       "<text style=\"fill:#000000; fill-opacity:1; font-family:Arial,Helvetica Neue,Helvetica,sans-serif; font-size:12; text-anchor:start;\" transform=\"rotate(0, 470.623, 87.1161)\" x=\"470.623\" y=\"87.1161\">EulerBackword</text>\n",
       "</g>\n",
       "<polyline clip-path=\"url(#clip8200)\" style=\"stroke:#3da44d; stroke-width:5; stroke-opacity:1; fill:none\" points=\"\n",
       "  428.623,97.7361 464.623,97.7361 \n",
       "  \"/>\n",
       "<g clip-path=\"url(#clip8200)\">\n",
       "<text style=\"fill:#000000; fill-opacity:1; font-family:Arial,Helvetica Neue,Helvetica,sans-serif; font-size:12; text-anchor:start;\" transform=\"rotate(0, 470.623, 102.236)\" x=\"470.623\" y=\"102.236\">EulerModified</text>\n",
       "</g>\n",
       "<polyline clip-path=\"url(#clip8200)\" style=\"stroke:#c271d2; stroke-width:5; stroke-opacity:1; fill:none\" points=\"\n",
       "  428.623,112.856 464.623,112.856 \n",
       "  \"/>\n",
       "<g clip-path=\"url(#clip8200)\">\n",
       "<text style=\"fill:#000000; fill-opacity:1; font-family:Arial,Helvetica Neue,Helvetica,sans-serif; font-size:12; text-anchor:start;\" transform=\"rotate(0, 470.623, 117.356)\" x=\"470.623\" y=\"117.356\">Runge-Kutta</text>\n",
       "</g>\n",
       "<polyline clip-path=\"url(#clip8200)\" style=\"stroke:#000000; stroke-width:3; stroke-opacity:1; fill:none\" stroke-dasharray=\"12, 8\" points=\"\n",
       "  428.623,127.976 464.623,127.976 \n",
       "  \"/>\n",
       "<g clip-path=\"url(#clip8200)\">\n",
       "<text style=\"fill:#000000; fill-opacity:1; font-family:Arial,Helvetica Neue,Helvetica,sans-serif; font-size:12; text-anchor:start;\" transform=\"rotate(0, 470.623, 132.476)\" x=\"470.623\" y=\"132.476\">True Solution!</text>\n",
       "</g>\n",
       "</svg>\n"
      ]
     },
     "execution_count": 68,
     "metadata": {},
     "output_type": "execute_result"
    }
   ],
   "source": [
    "plot(time_array,f_array_1,linewidth=5,title=\"Solution to the linear ODE\",\n",
    "     xaxis=\"Time (t)\",yaxis=\"u(t) (in μm)\",label=\"EulerForward\") \n",
    "plot!(time_array,f_array_2,linewidth=5,\n",
    "     xaxis=\"Time (t)\",yaxis=\"u(t) (in μm)\",label=\"EulerBackword\")\n",
    "plot!(time_array,f_array_3,linewidth=5,\n",
    "     xaxis=\"Time (t)\",yaxis=\"u(t) (in μm)\",label=\"EulerModified\") \n",
    "plot!(time_array,f_array_4,linewidth=5,\n",
    "     xaxis=\"Time (t)\",yaxis=\"u(t) (in μm)\",label=\"Runge-Kutta\") \n",
    "plot!(time_array,real_array_1,lw=3,ls=:dash,color=:black,label=\"True Solution!\")"
   ]
  }
 ],
 "metadata": {
  "kernelspec": {
   "display_name": "Julia 0.6.0",
   "language": "julia",
   "name": "julia-0.6"
  },
  "language_info": {
   "file_extension": ".jl",
   "mimetype": "application/julia",
   "name": "julia",
   "version": "0.6.0"
  }
 },
 "nbformat": 4,
 "nbformat_minor": 2
}
